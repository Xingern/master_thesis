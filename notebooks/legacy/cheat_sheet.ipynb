{
 "cells": [
  {
   "cell_type": "markdown",
   "metadata": {},
   "source": [
    "# Xings Cheat Sheet"
   ]
  },
  {
   "cell_type": "markdown",
   "metadata": {},
   "source": [
    "A compilation of everything I learned during my masters thesis. Written by **Jun Xing Li**"
   ]
  },
  {
   "cell_type": "markdown",
   "metadata": {},
   "source": [
    "# Scikit Learn"
   ]
  },
  {
   "cell_type": "markdown",
   "metadata": {},
   "source": [
    "## *StandardScalar()*"
   ]
  },
  {
   "cell_type": "code",
   "execution_count": 1,
   "metadata": {},
   "outputs": [
    {
     "data": {
      "text/html": [
       "<div>\n",
       "<style scoped>\n",
       "    .dataframe tbody tr th:only-of-type {\n",
       "        vertical-align: middle;\n",
       "    }\n",
       "\n",
       "    .dataframe tbody tr th {\n",
       "        vertical-align: top;\n",
       "    }\n",
       "\n",
       "    .dataframe thead th {\n",
       "        text-align: right;\n",
       "    }\n",
       "</style>\n",
       "<table border=\"1\" class=\"dataframe\">\n",
       "  <thead>\n",
       "    <tr style=\"text-align: right;\">\n",
       "      <th></th>\n",
       "      <th>0</th>\n",
       "      <th>1</th>\n",
       "      <th>2</th>\n",
       "    </tr>\n",
       "  </thead>\n",
       "  <tbody>\n",
       "    <tr>\n",
       "      <th>0</th>\n",
       "      <td>1</td>\n",
       "      <td>2</td>\n",
       "      <td>3</td>\n",
       "    </tr>\n",
       "    <tr>\n",
       "      <th>1</th>\n",
       "      <td>4</td>\n",
       "      <td>5</td>\n",
       "      <td>6</td>\n",
       "    </tr>\n",
       "    <tr>\n",
       "      <th>2</th>\n",
       "      <td>7</td>\n",
       "      <td>8</td>\n",
       "      <td>9</td>\n",
       "    </tr>\n",
       "  </tbody>\n",
       "</table>\n",
       "</div>"
      ],
      "text/plain": [
       "   0  1  2\n",
       "0  1  2  3\n",
       "1  4  5  6\n",
       "2  7  8  9"
      ]
     },
     "execution_count": 1,
     "metadata": {},
     "output_type": "execute_result"
    }
   ],
   "source": [
    "import numpy as np\n",
    "import pandas as pd\n",
    "from sklearn.preprocessing import StandardScaler\n",
    "\n",
    "# Create a 2D array\n",
    "X = np.array([[1, 2, 3], [4, 5, 6], [7, 8, 9]])\n",
    "y = np.array([[10, 11, 12]])\n",
    "\n",
    "pd.DataFrame(X)"
   ]
  },
  {
   "cell_type": "markdown",
   "metadata": {},
   "source": [
    "Now we call the *StandardScaler()* object that contains different functions. We apply *fit_transform()* in order to perform the following:\n",
    "\n",
    "\\begin{equation*}\n",
    "    X_{scaled} = \\frac{X - \\mu}{\\sigma}\n",
    "\\end{equation*}\n",
    "\n",
    "In order to apply the same transformation on $y$, we use *transform()* since the scaling (aka. mean and variance) are stored in the object. \n",
    "\n",
    "\\begin{equation*}\n",
    "    y_{scaled} = \\frac{y - \\mu}{\\sigma}\n",
    "\\end{equation*}\n",
    "\n",
    "Important to note that the training and test data should be scaled independently \n",
    "in order to avoid data leakage."
   ]
  },
  {
   "cell_type": "code",
   "execution_count": 2,
   "metadata": {},
   "outputs": [
    {
     "data": {
      "text/html": [
       "<div>\n",
       "<style scoped>\n",
       "    .dataframe tbody tr th:only-of-type {\n",
       "        vertical-align: middle;\n",
       "    }\n",
       "\n",
       "    .dataframe tbody tr th {\n",
       "        vertical-align: top;\n",
       "    }\n",
       "\n",
       "    .dataframe thead th {\n",
       "        text-align: right;\n",
       "    }\n",
       "</style>\n",
       "<table border=\"1\" class=\"dataframe\">\n",
       "  <thead>\n",
       "    <tr style=\"text-align: right;\">\n",
       "      <th></th>\n",
       "      <th>0</th>\n",
       "      <th>1</th>\n",
       "      <th>2</th>\n",
       "    </tr>\n",
       "  </thead>\n",
       "  <tbody>\n",
       "    <tr>\n",
       "      <th>0</th>\n",
       "      <td>-1.224745</td>\n",
       "      <td>-1.224745</td>\n",
       "      <td>-1.224745</td>\n",
       "    </tr>\n",
       "    <tr>\n",
       "      <th>1</th>\n",
       "      <td>0.000000</td>\n",
       "      <td>0.000000</td>\n",
       "      <td>0.000000</td>\n",
       "    </tr>\n",
       "    <tr>\n",
       "      <th>2</th>\n",
       "      <td>1.224745</td>\n",
       "      <td>1.224745</td>\n",
       "      <td>1.224745</td>\n",
       "    </tr>\n",
       "  </tbody>\n",
       "</table>\n",
       "</div>"
      ],
      "text/plain": [
       "          0         1         2\n",
       "0 -1.224745 -1.224745 -1.224745\n",
       "1  0.000000  0.000000  0.000000\n",
       "2  1.224745  1.224745  1.224745"
      ]
     },
     "execution_count": 2,
     "metadata": {},
     "output_type": "execute_result"
    }
   ],
   "source": [
    "scaler = StandardScaler()\n",
    "X_obj = scaler.fit_transform(X)\n",
    "\n",
    "pd.DataFrame(X_obj)"
   ]
  },
  {
   "cell_type": "code",
   "execution_count": 3,
   "metadata": {},
   "outputs": [
    {
     "data": {
      "text/html": [
       "<div>\n",
       "<style scoped>\n",
       "    .dataframe tbody tr th:only-of-type {\n",
       "        vertical-align: middle;\n",
       "    }\n",
       "\n",
       "    .dataframe tbody tr th {\n",
       "        vertical-align: top;\n",
       "    }\n",
       "\n",
       "    .dataframe thead th {\n",
       "        text-align: right;\n",
       "    }\n",
       "</style>\n",
       "<table border=\"1\" class=\"dataframe\">\n",
       "  <thead>\n",
       "    <tr style=\"text-align: right;\">\n",
       "      <th></th>\n",
       "      <th>0</th>\n",
       "      <th>1</th>\n",
       "      <th>2</th>\n",
       "    </tr>\n",
       "  </thead>\n",
       "  <tbody>\n",
       "    <tr>\n",
       "      <th>0</th>\n",
       "      <td>2.44949</td>\n",
       "      <td>2.44949</td>\n",
       "      <td>2.44949</td>\n",
       "    </tr>\n",
       "  </tbody>\n",
       "</table>\n",
       "</div>"
      ],
      "text/plain": [
       "         0        1        2\n",
       "0  2.44949  2.44949  2.44949"
      ]
     },
     "execution_count": 3,
     "metadata": {},
     "output_type": "execute_result"
    }
   ],
   "source": [
    "y_scaled = scaler.transform(y)\n",
    "pd.DataFrame(y_scaled)"
   ]
  },
  {
   "cell_type": "markdown",
   "metadata": {},
   "source": [
    "# *args and **kwargs"
   ]
  },
  {
   "cell_type": "markdown",
   "metadata": {},
   "source": [
    "[Source](https://www.youtube.com/watch?v=GdSJAZDsCZA)\n",
    "\n",
    "The *args is a positional argument collector."
   ]
  },
  {
   "cell_type": "code",
   "execution_count": 10,
   "metadata": {},
   "outputs": [
    {
     "name": "stdout",
     "output_type": "stream",
     "text": [
      "Using normal gives a tuple (1, 'abc', 3, 4, 5)\n",
      "Using * gives all arguments 1 abc 3 4 5\n"
     ]
    }
   ],
   "source": [
    "def func1(*args):\n",
    "    print(\"Tuple\", args)\n",
    "    print(\"All arguments\", *args)\n",
    "    \n",
    "\n",
    "func1(1, \"abc\", 3, 4, 5)"
   ]
  },
  {
   "cell_type": "markdown",
   "metadata": {},
   "source": [
    "The **kwargs stands for key word arguments and can be shown as such. "
   ]
  },
  {
   "cell_type": "code",
   "execution_count": 22,
   "metadata": {},
   "outputs": [
    {
     "name": "stdout",
     "output_type": "stream",
     "text": [
      "Hello World {'abc': 123, 'yolo': 567}\n",
      "Hello World abc yolo\n",
      "Hello World 123 567\n",
      "Hello World () abc\n"
     ]
    }
   ],
   "source": [
    "def func2(**kwargs):\n",
    "    print(\"The whole dict\", kwargs)\n",
    "    print(\"The keys\", *kwargs)\n",
    "    print(\"The values\", *kwargs.values())\n",
    "\n",
    "func2(abc=123, yolo=567)"
   ]
  },
  {
   "cell_type": "markdown",
   "metadata": {},
   "source": [
    "Important to always order them in this following order:\n",
    "\n",
    "<ol>\n",
    "    <li>Positional arguments</li>\n",
    "    <li>Optional positional arguments</li>\n",
    "    <li>Key word arguments</li>\n",
    "    <li>Optional key word arguments</li>\n",
    "</ol>"
   ]
  },
  {
   "cell_type": "code",
   "execution_count": 27,
   "metadata": {},
   "outputs": [
    {
     "name": "stdout",
     "output_type": "stream",
     "text": [
      "abc efg hij 5 6 {'abc': 123}\n"
     ]
    }
   ],
   "source": [
    "def func3(arg_1, *args, arg3=None, arg4=6,  **kwargs):\n",
    "    print(arg_1, *args,  arg3, arg4, kwargs)\n",
    "\n",
    "func3(\"abc\", \"efg\", \"hij\", arg3=5, abc=123)"
   ]
  },
  {
   "cell_type": "code",
   "execution_count": 36,
   "metadata": {},
   "outputs": [
    {
     "name": "stdout",
     "output_type": "stream",
     "text": [
      "{'fit_intercept': True, 'n_jobs': None}\n",
      "fit_intercept n_jobs\n",
      "True None\n"
     ]
    }
   ],
   "source": [
    "def func4(**kwargs):\n",
    "    print(kwargs)\n",
    "    print(*kwargs)\n",
    "    print(*kwargs.values())\n",
    "\n",
    "def func5(kwargs):\n",
    "    func4(**kwargs)\n",
    "    \n",
    "a = {'fit_intercept': True, 'n_jobs': None}\n",
    "func5(a)"
   ]
  },
  {
   "cell_type": "markdown",
   "metadata": {},
   "source": [
    "# MLxtend"
   ]
  },
  {
   "cell_type": "markdown",
   "metadata": {},
   "source": [
    "## *SequentialFeatureSelector*\n",
    "\n",
    "Implementation of the greedy search algorithm. The best method to find the optimal subset of features would be to try out every single combination of features. This leads to and exhaustive feature selection due to computational demands. \n",
    "\n",
    "Whether or not a feature is included can be seen as a binary number (01011). The number of total combinations would be $2^n$, but we have to subtract the combination resulting in a null set. This gives the formula of \n",
    "\n",
    "\\begin{equation*}\n",
    "    \\text{Combinations} = 2^n - 1\n",
    "\\end{equation*}\n",
    "\n",
    "For a feature set of 14 features, this results in 16 383 unique combinations. In order to cut down the computational time, one can utilize SFS. \n",
    "\n",
    "[Explain Sequential Forward Selection]\n",
    "\n",
    "[Explain Sequential Floating Forward Selection] Leads to better score, but slightly worse performance\n",
    "\n",
    "[Ferri (1994)](https://www.sciencedirect.com/science/article/abs/pii/B9780444818928500407)\n",
    "\n",
    "[mlxtend docs](https://rasbt.github.io/mlxtend/user_guide/feature_selection/SequentialFeatureSelector/)"
   ]
  },
  {
   "cell_type": "code",
   "execution_count": 37,
   "metadata": {},
   "outputs": [],
   "source": [
    "from sklearn.neighbors import KNeighborsClassifier\n",
    "from sklearn.datasets import load_iris\n",
    "\n",
    "iris = load_iris()\n",
    "X = iris.data\n",
    "y = iris.target\n",
    "knn = KNeighborsClassifier(n_neighbors=4)"
   ]
  },
  {
   "cell_type": "code",
   "execution_count": 45,
   "metadata": {},
   "outputs": [
    {
     "data": {
      "text/plain": [
       "{1: {'feature_idx': (3,),\n",
       "  'cv_scores': array([0.96]),\n",
       "  'avg_score': 0.96,\n",
       "  'feature_names': ('3',)},\n",
       " 2: {'feature_idx': (2, 3),\n",
       "  'cv_scores': array([0.97333333]),\n",
       "  'avg_score': 0.9733333333333334,\n",
       "  'feature_names': ('2', '3')},\n",
       " 3: {'feature_idx': (1, 2, 3),\n",
       "  'cv_scores': array([0.97333333]),\n",
       "  'avg_score': 0.9733333333333334,\n",
       "  'feature_names': ('1', '2', '3')}}"
      ]
     },
     "execution_count": 45,
     "metadata": {},
     "output_type": "execute_result"
    }
   ],
   "source": [
    "from mlxtend.feature_selection import SequentialFeatureSelector as SFS\n",
    "\n",
    "sfs1 = SFS(knn,                 # the classifier\n",
    "           k_features=3,        # the number of features to select\n",
    "           forward=True,        # if True, perform forward selection\n",
    "           floating=False,      # if True, perform floating search\n",
    "           verbose=0,           # print progress\n",
    "           scoring='accuracy',  # the metric to use\n",
    "           cv=0)                # the number of cross-validation folds\n",
    "\n",
    "sfs1 = sfs1.fit(X, y)\n",
    "sfs1.subsets_"
   ]
  },
  {
   "cell_type": "code",
   "execution_count": 49,
   "metadata": {},
   "outputs": [
    {
     "name": "stdout",
     "output_type": "stream",
     "text": [
      "(150, 4)\n",
      "(150, 3)\n"
     ]
    }
   ],
   "source": [
    "# Note that the transform call is equivalent to\n",
    "# X[:, sfs1.k_feature_idx_]\n",
    "X_sfs = sfs1.transform(X)\n",
    "print(X.shape)\n",
    "print(X_sfs.shape)"
   ]
  },
  {
   "cell_type": "code",
   "execution_count": null,
   "metadata": {},
   "outputs": [],
   "source": [
    "\"\"\"\n",
    "ridge1 = Ridge()\n",
    "ridge2 = Ridge()\n",
    "\n",
    "sfs_ridge = SFS(ridge1, k_features=\"best\", forward=True, floating=True, \n",
    "                scoring='neg_mean_squared_error', cv=5, n_jobs=-1)\n",
    "pipe_ridge = Pipeline([('sfs', sfs_ridge), \n",
    "                       ('ridge2', ridge2)])\n",
    "bs_ridge = BayesSearchCV(pipe_ridge,\n",
    "                   {\n",
    "                         'ridge2__alpha': Real(1e-6, 1e+6, prior='log-uniform'),\n",
    "                   }, \n",
    "                   n_iter=5,\n",
    "                   cv=5, \n",
    "                   scoring='neg_root_mean_squared_error',\n",
    "                   random_state=0)\n",
    "\n",
    "bs_ridge = bs_ridge.fit(X_train.drop(\"Time\", axis=1), y_train)\n",
    "BayesSearch_results(X_train, X_test, y_train, y_test, bs_ridge)\n",
    "\"\"\""
   ]
  }
 ],
 "metadata": {
  "kernelspec": {
   "display_name": "XingPythonKernel",
   "language": "python",
   "name": "python3"
  },
  "language_info": {
   "codemirror_mode": {
    "name": "ipython",
    "version": 3
   },
   "file_extension": ".py",
   "mimetype": "text/x-python",
   "name": "python",
   "nbconvert_exporter": "python",
   "pygments_lexer": "ipython3",
   "version": "3.8.13"
  }
 },
 "nbformat": 4,
 "nbformat_minor": 2
}
